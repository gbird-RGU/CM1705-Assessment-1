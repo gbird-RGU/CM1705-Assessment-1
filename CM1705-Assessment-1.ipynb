{
 "cells": [
  {
   "cell_type": "code",
   "execution_count": 1,
   "id": "da4ccf2d",
   "metadata": {},
   "outputs": [
    {
     "name": "stdout",
     "output_type": "stream",
     "text": [
      "Hello World!\n",
      "Hello Graham, have a great day\n"
     ]
    }
   ],
   "source": [
    "#Simple Hello World Program\n",
    "#Graham Bird\n",
    "#CM1705 Assessment 1 part b\n",
    "\n",
    "print('Hello World!')\n",
    "#adding in code to ask user to provide name and then say hello to them\n",
    "user_name = input(\"Please tell me your name\")\n",
    "#now say hello to the name inputtd\n",
    "print('Hello '+user_name+', have a great day')"
   ]
  }
 ],
 "metadata": {
  "kernelspec": {
   "display_name": "Python 3",
   "language": "python",
   "name": "python3"
  },
  "language_info": {
   "codemirror_mode": {
    "name": "ipython",
    "version": 3
   },
   "file_extension": ".py",
   "mimetype": "text/x-python",
   "name": "python",
   "nbconvert_exporter": "python",
   "pygments_lexer": "ipython3",
   "version": "3.8.8"
  }
 },
 "nbformat": 4,
 "nbformat_minor": 5
}
